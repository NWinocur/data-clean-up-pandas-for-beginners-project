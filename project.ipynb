{
 "cells": [
  {
   "cell_type": "markdown",
   "id": "6c9a1a29",
   "metadata": {},
   "source": [
    "# Basic Python Practices\n",
    "\n",
    "#### Exercise 00. Variable Declaration\n",
    "\n",
    "Define the following variables with values of your choice:\n",
    "\n",
    "- A variable that stores your name (text).\n",
    "- A variable that stores your age (integer).\n",
    "- A variable that indicates if you like programming (true or false).\n",
    "- A variable that stores your average grade (decimal number)."
   ]
  },
  {
   "cell_type": "code",
   "execution_count": 5,
   "id": "04495cc0",
   "metadata": {},
   "outputs": [],
   "source": [
    "# Declare your variables here.\n",
    "\n",
    "#greeting = \"Hello world\"\n",
    "STUDENT_NAME = \"N. Winocur\"\n",
    "student_age_fictional = 700\n",
    "LIKES_PROGRAMMING = True\n",
    "your_average_grade = 9000.1"
   ]
  },
  {
   "cell_type": "markdown",
   "id": "92b948f4",
   "metadata": {},
   "source": [
    "- Create a list with your five favorite numbers and print it."
   ]
  },
  {
   "cell_type": "code",
   "execution_count": 6,
   "id": "cb7a4019",
   "metadata": {},
   "outputs": [
    {
     "name": "stdout",
     "output_type": "stream",
     "text": [
      "[0, 1, 3.141592653589793, 69, 1337]\n"
     ]
    }
   ],
   "source": [
    "# Favorite numbers list\n",
    "import math\n",
    "favored_numbers_list = [0,1,math.pi,69,1337]\n",
    "print(favored_numbers_list)"
   ]
  },
  {
   "cell_type": "markdown",
   "id": "04332f35",
   "metadata": {},
   "source": [
    "- Create a dictionary that stores a student's information and print it:\n",
    "\n",
    "        - Name\n",
    "        - Age\n",
    "        - Final grade"
   ]
  },
  {
   "cell_type": "code",
   "execution_count": 7,
   "id": "7997e8d0",
   "metadata": {},
   "outputs": [
    {
     "name": "stdout",
     "output_type": "stream",
     "text": [
      "{'Name': 'N. Winocur', 'Age': 700, 'Final grade': 9000.1}\n"
     ]
    }
   ],
   "source": [
    "student_information = {\"Name\":STUDENT_NAME, \"Age\":student_age_fictional, \"Final grade\":your_average_grade}\n",
    "print(student_information)"
   ]
  },
  {
   "cell_type": "markdown",
   "id": "5dbaa835",
   "metadata": {},
   "source": [
    "#### Exercise 01. Basic data analysis with native Python structures.  \n",
    "Create a list with the grades of 5 students: [8.5, 9.2, 7.8, 8.9, 10].\n",
    "\n",
    "- Calculate the average of the grades."
   ]
  },
  {
   "cell_type": "code",
   "execution_count": 8,
   "id": "6f5ee032",
   "metadata": {},
   "outputs": [
    {
     "name": "stdout",
     "output_type": "stream",
     "text": [
      "8.879999999999999\n"
     ]
    }
   ],
   "source": [
    "import numpy as np\n",
    "student_grades = [8.5, 9.2, 7.8, 8.9, 10]\n",
    "their_average = np.mean(student_grades)\n",
    "print(their_average)"
   ]
  },
  {
   "cell_type": "markdown",
   "id": "20da3fc1",
   "metadata": {},
   "source": [
    "- Find the highest and lowest grade."
   ]
  },
  {
   "cell_type": "code",
   "execution_count": 9,
   "id": "4396c1a4",
   "metadata": {},
   "outputs": [
    {
     "name": "stdout",
     "output_type": "stream",
     "text": [
      "10.0\n",
      "7.8\n"
     ]
    }
   ],
   "source": [
    "highest_grade = np.max(student_grades)\n",
    "lowest_grade = np.min(student_grades)\n",
    "print(highest_grade)\n",
    "print(lowest_grade)"
   ]
  },
  {
   "cell_type": "markdown",
   "id": "5d7e1112",
   "metadata": {},
   "source": [
    "# Real estate data cleaning with Pandas for efficient analysis\n",
    "\n",
    "This is a real dataset that was downloaded using web scraping techniques. The data contains records from **Fotocasa**, one of the most popular real estate websites in Spain. Please do not perform web scraping unless it is for academic purposes.\n",
    "\n",
    "The dataset was downloaded a few years ago by Henry Navarro, and no economic benefit was obtained from it.\n",
    "\n",
    "It contains thousands of real house listings published on the website www.fotocasa.com. Your goal is to extract as much information as possible with the data science knowledge you have acquired so far.\n",
    "\n",
    "Let's get started!\n",
    "\n",
    "- First, let's read and explore the dataset."
   ]
  },
  {
   "cell_type": "code",
   "execution_count": 10,
   "id": "7ac6cb18",
   "metadata": {},
   "outputs": [
    {
     "data": {
      "text/html": [
       "<div>\n",
       "<style scoped>\n",
       "    .dataframe tbody tr th:only-of-type {\n",
       "        vertical-align: middle;\n",
       "    }\n",
       "\n",
       "    .dataframe tbody tr th {\n",
       "        vertical-align: top;\n",
       "    }\n",
       "\n",
       "    .dataframe thead th {\n",
       "        text-align: right;\n",
       "    }\n",
       "</style>\n",
       "<table border=\"1\" class=\"dataframe\">\n",
       "  <thead>\n",
       "    <tr style=\"text-align: right;\">\n",
       "      <th></th>\n",
       "      <th>Unnamed: 0</th>\n",
       "      <th>id_realEstates</th>\n",
       "      <th>isNew</th>\n",
       "      <th>realEstate_name</th>\n",
       "      <th>phone_realEstate</th>\n",
       "      <th>url_inmueble</th>\n",
       "      <th>rooms</th>\n",
       "      <th>bathrooms</th>\n",
       "      <th>surface</th>\n",
       "      <th>price</th>\n",
       "      <th>...</th>\n",
       "      <th>level4Id</th>\n",
       "      <th>level5Id</th>\n",
       "      <th>level6Id</th>\n",
       "      <th>level7Id</th>\n",
       "      <th>level8Id</th>\n",
       "      <th>accuracy</th>\n",
       "      <th>latitude</th>\n",
       "      <th>longitude</th>\n",
       "      <th>zipCode</th>\n",
       "      <th>customZone</th>\n",
       "    </tr>\n",
       "  </thead>\n",
       "  <tbody>\n",
       "    <tr>\n",
       "      <th>0</th>\n",
       "      <td>1</td>\n",
       "      <td>153771986</td>\n",
       "      <td>False</td>\n",
       "      <td>ferrari 57 inmobiliaria</td>\n",
       "      <td>912177526.0</td>\n",
       "      <td>https://www.fotocasa.es/es/comprar/vivienda/ma...</td>\n",
       "      <td>3.0</td>\n",
       "      <td>2.0</td>\n",
       "      <td>103.0</td>\n",
       "      <td>195000</td>\n",
       "      <td>...</td>\n",
       "      <td>0</td>\n",
       "      <td>0</td>\n",
       "      <td>0</td>\n",
       "      <td>0</td>\n",
       "      <td>0</td>\n",
       "      <td>0</td>\n",
       "      <td>40,2948276786438</td>\n",
       "      <td>-3,44402412135624</td>\n",
       "      <td>NaN</td>\n",
       "      <td>NaN</td>\n",
       "    </tr>\n",
       "    <tr>\n",
       "      <th>1</th>\n",
       "      <td>2</td>\n",
       "      <td>153867863</td>\n",
       "      <td>False</td>\n",
       "      <td>tecnocasa fuenlabrada ferrocarril</td>\n",
       "      <td>916358736.0</td>\n",
       "      <td>https://www.fotocasa.es/es/comprar/vivienda/ma...</td>\n",
       "      <td>3.0</td>\n",
       "      <td>1.0</td>\n",
       "      <td>NaN</td>\n",
       "      <td>89000</td>\n",
       "      <td>...</td>\n",
       "      <td>0</td>\n",
       "      <td>0</td>\n",
       "      <td>0</td>\n",
       "      <td>0</td>\n",
       "      <td>0</td>\n",
       "      <td>1</td>\n",
       "      <td>40,28674</td>\n",
       "      <td>-3,79351</td>\n",
       "      <td>NaN</td>\n",
       "      <td>NaN</td>\n",
       "    </tr>\n",
       "    <tr>\n",
       "      <th>2</th>\n",
       "      <td>3</td>\n",
       "      <td>153430440</td>\n",
       "      <td>False</td>\n",
       "      <td>look find boadilla</td>\n",
       "      <td>916350408.0</td>\n",
       "      <td>https://www.fotocasa.es/es/comprar/vivienda/ma...</td>\n",
       "      <td>2.0</td>\n",
       "      <td>2.0</td>\n",
       "      <td>99.0</td>\n",
       "      <td>390000</td>\n",
       "      <td>...</td>\n",
       "      <td>0</td>\n",
       "      <td>0</td>\n",
       "      <td>0</td>\n",
       "      <td>0</td>\n",
       "      <td>0</td>\n",
       "      <td>0</td>\n",
       "      <td>40,4115646786438</td>\n",
       "      <td>-3,90662252135624</td>\n",
       "      <td>NaN</td>\n",
       "      <td>NaN</td>\n",
       "    </tr>\n",
       "    <tr>\n",
       "      <th>3</th>\n",
       "      <td>4</td>\n",
       "      <td>152776331</td>\n",
       "      <td>False</td>\n",
       "      <td>tecnocasa fuenlabrada ferrocarril</td>\n",
       "      <td>916358736.0</td>\n",
       "      <td>https://www.fotocasa.es/es/comprar/vivienda/ma...</td>\n",
       "      <td>3.0</td>\n",
       "      <td>1.0</td>\n",
       "      <td>86.0</td>\n",
       "      <td>89000</td>\n",
       "      <td>...</td>\n",
       "      <td>0</td>\n",
       "      <td>0</td>\n",
       "      <td>0</td>\n",
       "      <td>0</td>\n",
       "      <td>0</td>\n",
       "      <td>0</td>\n",
       "      <td>40,2853785786438</td>\n",
       "      <td>-3,79508142135624</td>\n",
       "      <td>NaN</td>\n",
       "      <td>NaN</td>\n",
       "    </tr>\n",
       "    <tr>\n",
       "      <th>4</th>\n",
       "      <td>5</td>\n",
       "      <td>153180188</td>\n",
       "      <td>False</td>\n",
       "      <td>ferrari 57 inmobiliaria</td>\n",
       "      <td>912177526.0</td>\n",
       "      <td>https://www.fotocasa.es/es/comprar/vivienda/ma...</td>\n",
       "      <td>2.0</td>\n",
       "      <td>2.0</td>\n",
       "      <td>106.0</td>\n",
       "      <td>172000</td>\n",
       "      <td>...</td>\n",
       "      <td>0</td>\n",
       "      <td>0</td>\n",
       "      <td>0</td>\n",
       "      <td>0</td>\n",
       "      <td>0</td>\n",
       "      <td>0</td>\n",
       "      <td>40,2998774864376</td>\n",
       "      <td>-3,45226301356237</td>\n",
       "      <td>NaN</td>\n",
       "      <td>NaN</td>\n",
       "    </tr>\n",
       "    <tr>\n",
       "      <th>...</th>\n",
       "      <td>...</td>\n",
       "      <td>...</td>\n",
       "      <td>...</td>\n",
       "      <td>...</td>\n",
       "      <td>...</td>\n",
       "      <td>...</td>\n",
       "      <td>...</td>\n",
       "      <td>...</td>\n",
       "      <td>...</td>\n",
       "      <td>...</td>\n",
       "      <td>...</td>\n",
       "      <td>...</td>\n",
       "      <td>...</td>\n",
       "      <td>...</td>\n",
       "      <td>...</td>\n",
       "      <td>...</td>\n",
       "      <td>...</td>\n",
       "      <td>...</td>\n",
       "      <td>...</td>\n",
       "      <td>...</td>\n",
       "      <td>...</td>\n",
       "    </tr>\n",
       "    <tr>\n",
       "      <th>15330</th>\n",
       "      <td>15331</td>\n",
       "      <td>153901377</td>\n",
       "      <td>False</td>\n",
       "      <td>infocasa consulting</td>\n",
       "      <td>911360461.0</td>\n",
       "      <td>https://www.fotocasa.es/es/comprar/vivienda/ma...</td>\n",
       "      <td>2.0</td>\n",
       "      <td>1.0</td>\n",
       "      <td>96.0</td>\n",
       "      <td>259470</td>\n",
       "      <td>...</td>\n",
       "      <td>0</td>\n",
       "      <td>0</td>\n",
       "      <td>0</td>\n",
       "      <td>0</td>\n",
       "      <td>0</td>\n",
       "      <td>0</td>\n",
       "      <td>40,45416</td>\n",
       "      <td>-3,70286</td>\n",
       "      <td>NaN</td>\n",
       "      <td>NaN</td>\n",
       "    </tr>\n",
       "    <tr>\n",
       "      <th>15331</th>\n",
       "      <td>15332</td>\n",
       "      <td>150394373</td>\n",
       "      <td>False</td>\n",
       "      <td>inmobiliaria pulpon</td>\n",
       "      <td>912788039.0</td>\n",
       "      <td>https://www.fotocasa.es/es/comprar/vivienda/ma...</td>\n",
       "      <td>3.0</td>\n",
       "      <td>1.0</td>\n",
       "      <td>150.0</td>\n",
       "      <td>165000</td>\n",
       "      <td>...</td>\n",
       "      <td>0</td>\n",
       "      <td>0</td>\n",
       "      <td>0</td>\n",
       "      <td>0</td>\n",
       "      <td>0</td>\n",
       "      <td>0</td>\n",
       "      <td>40,36652</td>\n",
       "      <td>-3,48951</td>\n",
       "      <td>NaN</td>\n",
       "      <td>NaN</td>\n",
       "    </tr>\n",
       "    <tr>\n",
       "      <th>15332</th>\n",
       "      <td>15333</td>\n",
       "      <td>153901397</td>\n",
       "      <td>False</td>\n",
       "      <td>tecnocasa torrelodones</td>\n",
       "      <td>912780348.0</td>\n",
       "      <td>https://www.fotocasa.es/es/comprar/vivienda/ma...</td>\n",
       "      <td>4.0</td>\n",
       "      <td>2.0</td>\n",
       "      <td>175.0</td>\n",
       "      <td>495000</td>\n",
       "      <td>...</td>\n",
       "      <td>0</td>\n",
       "      <td>0</td>\n",
       "      <td>0</td>\n",
       "      <td>0</td>\n",
       "      <td>0</td>\n",
       "      <td>0</td>\n",
       "      <td>40,57444</td>\n",
       "      <td>-3,92124</td>\n",
       "      <td>NaN</td>\n",
       "      <td>NaN</td>\n",
       "    </tr>\n",
       "    <tr>\n",
       "      <th>15333</th>\n",
       "      <td>15334</td>\n",
       "      <td>152607440</td>\n",
       "      <td>False</td>\n",
       "      <td>inmobiliaria pulpon</td>\n",
       "      <td>912788039.0</td>\n",
       "      <td>https://www.fotocasa.es/es/comprar/vivienda/ma...</td>\n",
       "      <td>3.0</td>\n",
       "      <td>2.0</td>\n",
       "      <td>101.0</td>\n",
       "      <td>195000</td>\n",
       "      <td>...</td>\n",
       "      <td>0</td>\n",
       "      <td>0</td>\n",
       "      <td>0</td>\n",
       "      <td>0</td>\n",
       "      <td>0</td>\n",
       "      <td>0</td>\n",
       "      <td>40,36967</td>\n",
       "      <td>-3,48105</td>\n",
       "      <td>NaN</td>\n",
       "      <td>NaN</td>\n",
       "    </tr>\n",
       "    <tr>\n",
       "      <th>15334</th>\n",
       "      <td>15335</td>\n",
       "      <td>153901356</td>\n",
       "      <td>False</td>\n",
       "      <td>infocasa consulting</td>\n",
       "      <td>911360461.0</td>\n",
       "      <td>https://www.fotocasa.es/es/comprar/vivienda/ma...</td>\n",
       "      <td>3.0</td>\n",
       "      <td>2.0</td>\n",
       "      <td>152.0</td>\n",
       "      <td>765000</td>\n",
       "      <td>...</td>\n",
       "      <td>0</td>\n",
       "      <td>0</td>\n",
       "      <td>0</td>\n",
       "      <td>0</td>\n",
       "      <td>0</td>\n",
       "      <td>0</td>\n",
       "      <td>40,45773</td>\n",
       "      <td>-3,69068</td>\n",
       "      <td>NaN</td>\n",
       "      <td>NaN</td>\n",
       "    </tr>\n",
       "  </tbody>\n",
       "</table>\n",
       "<p>15335 rows × 37 columns</p>\n",
       "</div>"
      ],
      "text/plain": [
       "       Unnamed: 0  id_realEstates  isNew                    realEstate_name  \\\n",
       "0               1       153771986  False            ferrari 57 inmobiliaria   \n",
       "1               2       153867863  False  tecnocasa fuenlabrada ferrocarril   \n",
       "2               3       153430440  False                 look find boadilla   \n",
       "3               4       152776331  False  tecnocasa fuenlabrada ferrocarril   \n",
       "4               5       153180188  False            ferrari 57 inmobiliaria   \n",
       "...           ...             ...    ...                                ...   \n",
       "15330       15331       153901377  False                infocasa consulting   \n",
       "15331       15332       150394373  False                inmobiliaria pulpon   \n",
       "15332       15333       153901397  False             tecnocasa torrelodones   \n",
       "15333       15334       152607440  False                inmobiliaria pulpon   \n",
       "15334       15335       153901356  False                infocasa consulting   \n",
       "\n",
       "       phone_realEstate                                       url_inmueble  \\\n",
       "0           912177526.0  https://www.fotocasa.es/es/comprar/vivienda/ma...   \n",
       "1           916358736.0  https://www.fotocasa.es/es/comprar/vivienda/ma...   \n",
       "2           916350408.0  https://www.fotocasa.es/es/comprar/vivienda/ma...   \n",
       "3           916358736.0  https://www.fotocasa.es/es/comprar/vivienda/ma...   \n",
       "4           912177526.0  https://www.fotocasa.es/es/comprar/vivienda/ma...   \n",
       "...                 ...                                                ...   \n",
       "15330       911360461.0  https://www.fotocasa.es/es/comprar/vivienda/ma...   \n",
       "15331       912788039.0  https://www.fotocasa.es/es/comprar/vivienda/ma...   \n",
       "15332       912780348.0  https://www.fotocasa.es/es/comprar/vivienda/ma...   \n",
       "15333       912788039.0  https://www.fotocasa.es/es/comprar/vivienda/ma...   \n",
       "15334       911360461.0  https://www.fotocasa.es/es/comprar/vivienda/ma...   \n",
       "\n",
       "       rooms  bathrooms  surface   price  ... level4Id level5Id level6Id  \\\n",
       "0        3.0        2.0    103.0  195000  ...        0        0        0   \n",
       "1        3.0        1.0      NaN   89000  ...        0        0        0   \n",
       "2        2.0        2.0     99.0  390000  ...        0        0        0   \n",
       "3        3.0        1.0     86.0   89000  ...        0        0        0   \n",
       "4        2.0        2.0    106.0  172000  ...        0        0        0   \n",
       "...      ...        ...      ...     ...  ...      ...      ...      ...   \n",
       "15330    2.0        1.0     96.0  259470  ...        0        0        0   \n",
       "15331    3.0        1.0    150.0  165000  ...        0        0        0   \n",
       "15332    4.0        2.0    175.0  495000  ...        0        0        0   \n",
       "15333    3.0        2.0    101.0  195000  ...        0        0        0   \n",
       "15334    3.0        2.0    152.0  765000  ...        0        0        0   \n",
       "\n",
       "      level7Id level8Id accuracy          latitude          longitude zipCode  \\\n",
       "0            0        0        0  40,2948276786438  -3,44402412135624     NaN   \n",
       "1            0        0        1          40,28674           -3,79351     NaN   \n",
       "2            0        0        0  40,4115646786438  -3,90662252135624     NaN   \n",
       "3            0        0        0  40,2853785786438  -3,79508142135624     NaN   \n",
       "4            0        0        0  40,2998774864376  -3,45226301356237     NaN   \n",
       "...        ...      ...      ...               ...                ...     ...   \n",
       "15330        0        0        0          40,45416           -3,70286     NaN   \n",
       "15331        0        0        0          40,36652           -3,48951     NaN   \n",
       "15332        0        0        0          40,57444           -3,92124     NaN   \n",
       "15333        0        0        0          40,36967           -3,48105     NaN   \n",
       "15334        0        0        0          40,45773           -3,69068     NaN   \n",
       "\n",
       "      customZone  \n",
       "0            NaN  \n",
       "1            NaN  \n",
       "2            NaN  \n",
       "3            NaN  \n",
       "4            NaN  \n",
       "...          ...  \n",
       "15330        NaN  \n",
       "15331        NaN  \n",
       "15332        NaN  \n",
       "15333        NaN  \n",
       "15334        NaN  \n",
       "\n",
       "[15335 rows x 37 columns]"
      ]
     },
     "execution_count": 10,
     "metadata": {},
     "output_type": "execute_result"
    }
   ],
   "source": [
    "import pandas as pd\n",
    "\n",
    "# Leer el archivo CSV\n",
    "ds = pd.read_csv('assets/real_estate.csv', sep=';') # Este archivo CSV contiene puntos y comas en lugar de comas como separadores\n",
    "ds # mostramos todo"
   ]
  },
  {
   "cell_type": "markdown",
   "id": "7c9f690a",
   "metadata": {},
   "source": [
    "- Display the first rows of the CSV file."
   ]
  },
  {
   "cell_type": "code",
   "execution_count": 11,
   "id": "a8ff6c53",
   "metadata": {},
   "outputs": [
    {
     "name": "stdout",
     "output_type": "stream",
     "text": [
      "   Unnamed: 0  id_realEstates  isNew                    realEstate_name  \\\n",
      "0           1       153771986  False            ferrari 57 inmobiliaria   \n",
      "1           2       153867863  False  tecnocasa fuenlabrada ferrocarril   \n",
      "2           3       153430440  False                 look find boadilla   \n",
      "3           4       152776331  False  tecnocasa fuenlabrada ferrocarril   \n",
      "4           5       153180188  False            ferrari 57 inmobiliaria   \n",
      "5           6       153934794  False                            expimad   \n",
      "6           7       153848236  False                            expimad   \n",
      "7           8       153482331  False                            expimad   \n",
      "8           9       153885351  False                            expimad   \n",
      "9          10       153215459  False                            modesta   \n",
      "\n",
      "   phone_realEstate                                       url_inmueble  rooms  \\\n",
      "0       912177526.0  https://www.fotocasa.es/es/comprar/vivienda/ma...    3.0   \n",
      "1       916358736.0  https://www.fotocasa.es/es/comprar/vivienda/ma...    3.0   \n",
      "2       916350408.0  https://www.fotocasa.es/es/comprar/vivienda/ma...    2.0   \n",
      "3       916358736.0  https://www.fotocasa.es/es/comprar/vivienda/ma...    3.0   \n",
      "4       912177526.0  https://www.fotocasa.es/es/comprar/vivienda/ma...    2.0   \n",
      "5       912780412.0  https://www.fotocasa.es/es/comprar/vivienda/ma...    2.0   \n",
      "6       912780412.0  https://www.fotocasa.es/es/comprar/vivienda/ma...    3.0   \n",
      "7       912780412.0  https://www.fotocasa.es/es/comprar/vivienda/ma...    2.0   \n",
      "8       912780412.0  https://www.fotocasa.es/es/comprar/vivienda/ma...    4.0   \n",
      "9               NaN  https://www.fotocasa.es/es/comprar/vivienda/ma...    4.0   \n",
      "\n",
      "   bathrooms  surface   price  ... level4Id level5Id level6Id level7Id  \\\n",
      "0        2.0    103.0  195000  ...        0        0        0        0   \n",
      "1        1.0      NaN   89000  ...        0        0        0        0   \n",
      "2        2.0     99.0  390000  ...        0        0        0        0   \n",
      "3        1.0     86.0   89000  ...        0        0        0        0   \n",
      "4        2.0    106.0  172000  ...        0        0        0        0   \n",
      "5        1.0     70.0  315000  ...        0        0        0        0   \n",
      "6        2.0    145.0  430000  ...        0        0        0        0   \n",
      "7        1.0     95.0  275000  ...        0        0        0        0   \n",
      "8        3.0    277.0  445000  ...        0        0        0        0   \n",
      "9        2.0    129.0  350000  ...        0        0        0        0   \n",
      "\n",
      "  level8Id accuracy          latitude          longitude zipCode customZone  \n",
      "0        0        0  40,2948276786438  -3,44402412135624     NaN        NaN  \n",
      "1        0        1          40,28674           -3,79351     NaN        NaN  \n",
      "2        0        0  40,4115646786438  -3,90662252135624     NaN        NaN  \n",
      "3        0        0  40,2853785786438  -3,79508142135624     NaN        NaN  \n",
      "4        0        0  40,2998774864376  -3,45226301356237     NaN        NaN  \n",
      "5        0        0          40,53391           -3,89445     NaN        NaN  \n",
      "6        0        0  40,5105842135624  -3,89436578643763     NaN        NaN  \n",
      "7        0        0          40,53294           -3,89898     NaN        NaN  \n",
      "8        0        0  40,5363057864376  -3,89294421356237     NaN        NaN  \n",
      "9        0        0          40,37502           -3,74391     NaN        NaN  \n",
      "\n",
      "[10 rows x 37 columns]\n"
     ]
    }
   ],
   "source": [
    "print(ds.head(10)) #default shows first five rows; showing ten confirms we have at least one NaN value"
   ]
  },
  {
   "cell_type": "markdown",
   "id": "ce7aed60",
   "metadata": {},
   "source": [
    "Perfect, this was a small practice. Now let's begin with the real exercises!"
   ]
  },
  {
   "cell_type": "markdown",
   "id": "1221311f",
   "metadata": {},
   "source": [
    "#### Exercise 01. What is the most expensive house in the entire dataset? (★☆☆)\n",
    "\n",
    "Print the address and price of the selected house. For example:\n",
    "\n",
    "`The house located at Calle del Prado, Nº20 is the most expensive, and its price is 5000000 USD.`"
   ]
  },
  {
   "cell_type": "code",
   "execution_count": 12,
   "id": "aa45da68",
   "metadata": {},
   "outputs": [
    {
     "name": "stdout",
     "output_type": "stream",
     "text": [
      "The house located at El Escorial is the most expensive, and its price is 8500000 USD.\n"
     ]
    }
   ],
   "source": [
    "#print(ds.columns)\n",
    "expensive_house_price = ds.price.max()\n",
    "expensive_house_id = ds.price.idxmax()\n",
    "expensive_house_address = ds.address[expensive_house_id]\n",
    "\n",
    "print(f\"The house located at {expensive_house_address} is the most expensive, and its price is {expensive_house_price} USD.\")"
   ]
  },
  {
   "cell_type": "markdown",
   "id": "8059b1b6",
   "metadata": {},
   "source": [
    "#### Exercise 02. What is the cheapest house in the dataset? (★☆☆)\n",
    "\n",
    "This exercise is similar to the previous one, except now we are looking for the house with the lowest price. Remember to print the address and price of the selected house. For example:\n",
    "\n",
    "`The house located at Calle Alcalá, Nº58 is the cheapest, and its price is 12000 USD.`\n"
   ]
  },
  {
   "cell_type": "code",
   "execution_count": 13,
   "id": "007c60de",
   "metadata": {},
   "outputs": [
    {
     "name": "stdout",
     "output_type": "stream",
     "text": [
      "The house located at Berlin, Coslada is the cheapest, and its price is 600 USD.\n"
     ]
    }
   ],
   "source": [
    "inexpensive_house_price = ds.price[ds.price>0].min()\n",
    "inexpensive_house_id = ds.price[ds.price>0].idxmin()\n",
    "inexpensive_house_address = ds.address[inexpensive_house_id]\n",
    "\n",
    "print(f\"The house located at {inexpensive_house_address} is the cheapest, and its price is {inexpensive_house_price} USD.\")"
   ]
  },
  {
   "cell_type": "markdown",
   "id": "637612ca",
   "metadata": {},
   "source": [
    "#### Exercise 03. What is the largest and smallest house in the dataset? (★☆☆)\n",
    "\n",
    "Print the address and area of the selected houses. For example:\n",
    "\n",
    "`The largest house is located at Calle Gran Vía, Nº38, and its area is 5000 square meters.`\n",
    "\n",
    "`The smallest house is located at Calle Mayor, Nº12, and its area is 200 square meters.`\n",
    "\n",
    "This exercise is similar to the previous one, but we are looking for the largest and smallest houses based on their area."
   ]
  },
  {
   "cell_type": "code",
   "execution_count": 14,
   "id": "580cbc83",
   "metadata": {},
   "outputs": [
    {
     "name": "stdout",
     "output_type": "stream",
     "text": [
      "The largest house is located at Sevilla la Nueva, and its area is 249000.0 square meters.\n",
      "The smallest house is located at Calle Amparo,  Madrid Capital, and its area is 15.0 square meters.\n"
     ]
    }
   ],
   "source": [
    "largest_house_area = ds.surface.max()\n",
    "largest_house_id = ds.surface.idxmax()\n",
    "largest_house_address = ds.address[largest_house_id]\n",
    "\n",
    "print(f\"The largest house is located at {largest_house_address}, and its area is {largest_house_area} square meters.\")\n",
    "\n",
    "\n",
    "smallest_house_area = ds.surface[ds.surface>0].min()\n",
    "smallest_house_id = ds.surface[ds.surface>0].idxmin()\n",
    "smallest_house_address = ds.address[smallest_house_id]\n",
    "\n",
    "print(f\"The smallest house is located at {smallest_house_address}, and its area is {smallest_house_area} square meters.\")"
   ]
  },
  {
   "cell_type": "markdown",
   "id": "c92af6da",
   "metadata": {},
   "source": [
    "#### Exercise 04. How many unique populations are in the dataset? (★☆☆)\n",
    "\n",
    "Count the number of unique populations in the 'level5' column and print the names of the populations separated by commas. For example:\n",
    "\n",
    "`> print(populations)`\n",
    "\n",
    "`population1, population2, population3, ...`"
   ]
  },
  {
   "cell_type": "code",
   "execution_count": 15,
   "id": "07ef25bb",
   "metadata": {},
   "outputs": [
    {
     "name": "stdout",
     "output_type": "stream",
     "text": [
      "There are 168 unique populations in the dataset\n",
      " Madrid Capital, Ajalvir, Alcalá de Henares, Alcobendas, Alcorcón, Aldea del Fresno, Algete, Alpedrete, Ambite, Anchuelo, Aranjuez, Arganda del Rey, Arroyomolinos (Madrid), Batres, Becerril de la Sierra, Belmonte de Tajo, Boadilla del Monte, Braojos, Brea de Tajo, Brunete, Buitrago del Lozoya, Bustarviejo, Cabanillas de la Sierra, Cadalso de los Vidrios, Camarma de Esteruelas, Campo Real, Canencia, Carabaña, Casarrubuelos, Cenicientos, Cercedilla, Chapinería, Chinchón, Ciempozuelos, Cobeña, Collado Mediano, Collado Villalba, Colmenar Viejo, Colmenar de Oreja, Colmenar del Arroyo, Colmenarejo, Corpa, Coslada, Cubas de la Sagra, Daganzo de Arriba, El Atazar, El Berrueco, El Boalo - Cerceda – Mataelpino, El Escorial, El Molar (Madrid), El Vellón, El Álamo, Estremera, Fresnedillas de la Oliva, Fresno de Torote, Fresno de Torote - Serracines, Fuenlabrada, Fuente El Saz de Jarama, Fuentidueña de Tajo, Galapagar, Garganta de los Montes, Gargantilla del Lozoya, Gascones, Getafe, Griñón, Guadalix de la Sierra, Guadarrama, Horcajo de la Sierra, Hoyo de Manzanares, Humanes de Madrid, La Cabrera, La Hiruela, Las Rozas de Madrid, Leganés, Loeches, Los Molinos, Los Santos de la Humosa, Lozoya, Lozoyuela-navas-sieteiglesias, Madarcos, Majadahonda, Manzanares El Real, Meco, Mejorada del Campo, Miraflores de la Sierra, Montejo de la Sierra, Moraleja de Enmedio, Moralzarzal, Morata de Tajuña, Móstoles, Navacerrada, Navalafuente, Navalagamella, Navalcarnero, Navarredonda, Navas del Rey, Nuevo Baztán, Orusco de Tajuña, Paracuellos de Jarama, Parla, Patones, Pedrezuela, Pelayos de la Presa, Perales de Tajuña, Pezuela de las Torres, Pinilla del Valle, Pinto, Piñuécar-gandullas, Pozuelo de Alarcón, Pozuelo del Rey, Puentes Viejas, Quijorna, Rascafría, Redueña, Ribatejada, Rivas-vaciamadrid, Robledo de Chavela, Robregordo, San Agustín del Guadalix, San Fernando de Henares, San Lorenzo de El Escorial, San Martín de Valdeiglesias, San Martín de la Vega, San Sebastián de los Reyes, Santa María de la Alameda, Santorcaz, Serranillos del Valle, Sevilla la Nueva, Soto del Real, Talamanca de Jarama, Tielmes, Titulcia, Torrejón de Ardoz, Torrejón de Velasco, Torrejón de la Calzada, Torrelaguna, Torrelodones, Torremocha de Jarama, Torres de la Alameda, Tres Cantos, Valdaracete, Valdeavero, Valdelaguna, Valdemanco, Valdemaqueda, Valdemorillo, Valdemoro, Valdeolmos-Alalpardo, Valdepiélagos, Valdetorres de Jarama, Valdilecha, Valverde de Alcalá, Velilla de San Antonio, Venturada, Villa del Prado, Villaconejos, Villalbilla, Villamanrique de Tajo, Villamanta, Villamantilla, Villanueva de Perales, Villanueva de la Cañada, Villanueva del Pardillo, Villar del Olmo, Villarejo de Salvanés, Villaviciosa de Odón, Villavieja del Lozoya, Zarzalejo, "
     ]
    }
   ],
   "source": [
    "populations = ds.groupby(\"level5\")\n",
    "print(f\"There are {populations.ngroups} unique populations in the dataset\")\n",
    "\n",
    "for pop in populations:\n",
    "    print(f\"{pop[0]}\", end=\", \")"
   ]
  },
  {
   "cell_type": "markdown",
   "id": "08fda078",
   "metadata": {},
   "source": [
    "#### Exercise 05. Does the dataset contain null values (NAs)? (★☆☆)\n",
    "\n",
    "Print a boolean (`True` or `False`) to check if there are null values, followed by the columns that contain NAs."
   ]
  },
  {
   "cell_type": "code",
   "execution_count": 16,
   "id": "7eb98e35",
   "metadata": {},
   "outputs": [
    {
     "name": "stdout",
     "output_type": "stream",
     "text": [
      "NAs found? True\n",
      "['countryId', 'level1Id', 'level2Id', 'level3Id', 'level4Id', 'level5Id', 'level6Id', 'level7Id', 'level8Id', 'zipCode', 'customZone']\n"
     ]
    }
   ],
   "source": [
    "columns_containing_na = []\n",
    "is_na_found = False\n",
    "for column_name, series in ds.items():\n",
    "    # The \"level#\" columns look useful but columns like \"level#Id\" contain nothing but zeroes.  So just like the NaNs I see no reason to keep them.\n",
    "    if series.isna().all() or (series ==0).all(): \n",
    "        is_na_found = True\n",
    "        columns_containing_na.append(column_name)\n",
    "\n",
    "print(f\"NAs found? {is_na_found}\")\n",
    "print(columns_containing_na)\n"
   ]
  },
  {
   "cell_type": "markdown",
   "id": "a8b31e50",
   "metadata": {},
   "source": [
    "#### Exercise 06. Remove the null values (NAs) from the dataset, if applicable (★★☆)\n",
    "\n",
    "After removing the null values, compare the size of the DataFrame before and after the removal."
   ]
  },
  {
   "cell_type": "code",
   "execution_count": 17,
   "id": "9f174338",
   "metadata": {},
   "outputs": [
    {
     "name": "stdout",
     "output_type": "stream",
     "text": [
      "Size before removing nulls was\t567395\n",
      "Size after removing nulls is\t536725\n",
      "Size after removing both nulls and columns containing exclusively zeroes is\t398710\n"
     ]
    }
   ],
   "source": [
    "size_before_removing_nulls = ds.size\n",
    "print(f\"Size before removing nulls was\\t{size_before_removing_nulls}\")\n",
    "ds_without_nas = ds.dropna(axis=1, how=\"all\")\n",
    "print(f\"Size after removing nulls is\\t{ds_without_nas.size}\")\n",
    "\n",
    "#next will clear useless only-zeroes columns by replacing those values with NAs and then dropping the same way\n",
    "ds_cleaned_up = ds.replace(0, np.nan).dropna(axis=1, how=\"all\")\n",
    "print(f\"Size after removing both nulls and columns containing exclusively zeroes is\\t{ds_cleaned_up.size}\")"
   ]
  },
  {
   "cell_type": "markdown",
   "id": "71fd820e",
   "metadata": {},
   "source": [
    "#### Exercise 07. What is the average price in the population of \"Arroyomolinos (Madrid)\"? (★★☆)\n",
    "\n",
    "Print the value obtained from the 'level5' column."
   ]
  },
  {
   "cell_type": "code",
   "execution_count": 18,
   "id": "2a495ff1",
   "metadata": {},
   "outputs": [
    {
     "name": "stdout",
     "output_type": "stream",
     "text": [
      "       Unnamed: 0  id_realEstates  isNew                  realEstate_name  \\\n",
      "453           454       153843083  False                  akris arguelles   \n",
      "607           608       153620088  False        100 home red inmobiliaria   \n",
      "613           614       153478908  False               mares inmobiliaria   \n",
      "707           708       153736961  False                         gm house   \n",
      "852           853       153274493  False                         gm house   \n",
      "...           ...             ...    ...                              ...   \n",
      "15019       15020       152767314  False                 haya real estate   \n",
      "15089       15090       152767395  False                 haya real estate   \n",
      "15091       15092       152767377  False                 haya real estate   \n",
      "15094       15095       152767335  False                 haya real estate   \n",
      "15192       15193       146831440  False  miranda servicios inmobiliarios   \n",
      "\n",
      "       phone_realEstate                                       url_inmueble  \\\n",
      "453         911792694.0  https://www.fotocasa.es/es/comprar/vivienda/ma...   \n",
      "607         912669623.0  https://www.fotocasa.es/es/comprar/vivienda/ma...   \n",
      "613         911794026.0  https://www.fotocasa.es/es/comprar/vivienda/ma...   \n",
      "707         916357589.0  https://www.fotocasa.es/es/comprar/vivienda/po...   \n",
      "852         916357589.0  https://www.fotocasa.es/es/comprar/vivienda/ma...   \n",
      "...                 ...                                                ...   \n",
      "15019       911227078.0  https://www.fotocasa.es/vivienda/getafe/calle-...   \n",
      "15089       911227078.0  https://www.fotocasa.es/es/comprar/vivienda/ar...   \n",
      "15091       911227078.0  https://www.fotocasa.es/es/comprar/vivienda/ar...   \n",
      "15094       911227078.0  https://www.fotocasa.es/es/comprar/vivienda/ar...   \n",
      "15192       912789124.0  https://www.fotocasa.es/es/comprar/vivienda/ma...   \n",
      "\n",
      "       rooms  bathrooms  surface     price  ...         level3  \\\n",
      "453      2.0        2.0     85.0  165338.0  ...  Zona Suroeste   \n",
      "607      4.0        3.0    225.0  251646.0  ...  Zona Suroeste   \n",
      "613      4.0        4.0    257.0  396000.0  ...  Zona Suroeste   \n",
      "707      3.0        2.0    110.0  225000.0  ...  Zona Suroeste   \n",
      "852      4.0        2.0    280.0  373000.0  ...  Zona Suroeste   \n",
      "...      ...        ...      ...       ...  ...            ...   \n",
      "15019    3.0        2.0    143.0  218000.0  ...  Zona Suroeste   \n",
      "15089    3.0        2.0    140.0  230000.0  ...  Zona Suroeste   \n",
      "15091    3.0        2.0    143.0  217000.0  ...  Zona Suroeste   \n",
      "15094    3.0        2.0    142.0  227000.0  ...  Zona Suroeste   \n",
      "15192    3.0        2.0    300.0  462000.0  ...  Zona Suroeste   \n",
      "\n",
      "                       level4                  level5 level6  \\\n",
      "453    Arroyomolinos, Zona de  Arroyomolinos (Madrid)    NaN   \n",
      "607    Arroyomolinos, Zona de  Arroyomolinos (Madrid)    NaN   \n",
      "613    Arroyomolinos, Zona de  Arroyomolinos (Madrid)    NaN   \n",
      "707    Arroyomolinos, Zona de  Arroyomolinos (Madrid)    NaN   \n",
      "852    Arroyomolinos, Zona de  Arroyomolinos (Madrid)    NaN   \n",
      "...                       ...                     ...    ...   \n",
      "15019  Arroyomolinos, Zona de  Arroyomolinos (Madrid)    NaN   \n",
      "15089  Arroyomolinos, Zona de  Arroyomolinos (Madrid)    NaN   \n",
      "15091  Arroyomolinos, Zona de  Arroyomolinos (Madrid)    NaN   \n",
      "15094  Arroyomolinos, Zona de  Arroyomolinos (Madrid)    NaN   \n",
      "15192  Arroyomolinos, Zona de  Arroyomolinos (Madrid)    NaN   \n",
      "\n",
      "                                       level7 level8  \\\n",
      "453                       Zona Las Castañeras    NaN   \n",
      "607    La Cárcaba - El Encinar - Montemolinos    NaN   \n",
      "613                     Zona Bulevar y Europa    NaN   \n",
      "707                     Zona Bulevar y Europa    NaN   \n",
      "852                     Zona Bulevar y Europa    NaN   \n",
      "...                                       ...    ...   \n",
      "15019                   Zona Bulevar y Europa    NaN   \n",
      "15089                   Zona Bulevar y Europa    NaN   \n",
      "15091                   Zona Bulevar y Europa    NaN   \n",
      "15094                   Zona Bulevar y Europa    NaN   \n",
      "15192                         Zona Zarzalejos    NaN   \n",
      "\n",
      "                                   upperLevel accuracy          latitude  \\\n",
      "453                       Zona Las Castañeras      NaN          40,27657   \n",
      "607    La Cárcaba - El Encinar - Montemolinos      NaN  40,2568635154027   \n",
      "613                     Zona Bulevar y Europa      1.0        40,2839697   \n",
      "707                     Zona Bulevar y Europa      NaN        40,2779047   \n",
      "852                     Zona Bulevar y Europa      NaN        40,2827315   \n",
      "...                                       ...      ...               ...   \n",
      "15019                   Zona Bulevar y Europa      NaN       40,27849764   \n",
      "15089                   Zona Bulevar y Europa      NaN       40,27849764   \n",
      "15091                   Zona Bulevar y Europa      NaN       40,27849764   \n",
      "15094                   Zona Bulevar y Europa      NaN       40,27849764   \n",
      "15192                         Zona Zarzalejos      NaN         40,270392   \n",
      "\n",
      "               longitude  \n",
      "453             -3,91864  \n",
      "607    -3,91214199444133  \n",
      "613           -3,9268743  \n",
      "707           -3,9136693  \n",
      "852           -3,9120264  \n",
      "...                  ...  \n",
      "15019        -3,91184112  \n",
      "15089        -3,91184112  \n",
      "15091        -3,91184112  \n",
      "15094        -3,91184112  \n",
      "15192  -3,90373610000006  \n",
      "\n",
      "[137 rows x 26 columns]\n"
     ]
    }
   ],
   "source": [
    "print(ds_cleaned_up[ds_cleaned_up[\"level5\"] == \"Arroyomolinos (Madrid)\"])\n"
   ]
  },
  {
   "cell_type": "markdown",
   "id": "75911380",
   "metadata": {},
   "source": [
    "#### Exercise 08. Plot the histogram of prices for the population of \"Arroyomolinos (Madrid)\" and explain what you observe (★★☆)\n",
    "\n",
    "Print the histogram of the prices and write a brief analysis of the plot in the Markdown cell."
   ]
  },
  {
   "cell_type": "code",
   "execution_count": 19,
   "id": "070c7ed3",
   "metadata": {},
   "outputs": [],
   "source": [
    "import matplotlib.pyplot as plt\n",
    "\n",
    "# Plot the histogram of prices"
   ]
  }
 ],
 "metadata": {
  "kernelspec": {
   "display_name": ".venv",
   "language": "python",
   "name": "python3"
  },
  "language_info": {
   "codemirror_mode": {
    "name": "ipython",
    "version": 3
   },
   "file_extension": ".py",
   "mimetype": "text/x-python",
   "name": "python",
   "nbconvert_exporter": "python",
   "pygments_lexer": "ipython3",
   "version": "3.11.4"
  }
 },
 "nbformat": 4,
 "nbformat_minor": 5
}
