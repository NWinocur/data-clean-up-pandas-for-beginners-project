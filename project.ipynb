{
 "cells": [
  {
   "cell_type": "markdown",
   "id": "6c9a1a29",
   "metadata": {},
   "source": [
    "# Basic Python Practices\n",
    "\n",
    "#### Exercise 00. Variable Declaration\n",
    "\n",
    "Define the following variables with values of your choice:\n",
    "\n",
    "- A variable that stores your name (text).\n",
    "- A variable that stores your age (integer).\n",
    "- A variable that indicates if you like programming (true or false).\n",
    "- A variable that stores your average grade (decimal number)."
   ]
  },
  {
   "cell_type": "code",
   "execution_count": null,
   "id": "04495cc0",
   "metadata": {},
   "outputs": [],
   "source": [
    "# Declare your variables here.\n",
    "\n",
    "#greeting = \"Hello world\"\n",
    "STUDENT_NAME = \"N. Winocur\"\n",
    "student_age_fictional = 700\n",
    "LIKES_PROGRAMMING = True\n",
    "your_average_grade = 9000.1"
   ]
  },
  {
   "cell_type": "markdown",
   "id": "92b948f4",
   "metadata": {},
   "source": [
    "- Create a list with your five favorite numbers and print it."
   ]
  },
  {
   "cell_type": "code",
   "execution_count": null,
   "id": "cb7a4019",
   "metadata": {},
   "outputs": [],
   "source": [
    "# Favorite numbers list\n",
    "import math\n",
    "favored_numbers_list = [0,1,math.pi,69,1337]\n",
    "print(favored_numbers_list)"
   ]
  },
  {
   "cell_type": "markdown",
   "id": "04332f35",
   "metadata": {},
   "source": [
    "- Create a dictionary that stores a student's information and print it:\n",
    "\n",
    "        - Name\n",
    "        - Age\n",
    "        - Final grade"
   ]
  },
  {
   "cell_type": "code",
   "execution_count": null,
   "id": "7997e8d0",
   "metadata": {},
   "outputs": [],
   "source": [
    "student_information = {\"Name\":STUDENT_NAME, \"Age\":student_age_fictional, \"Final grade\":your_average_grade}\n",
    "print(student_information)"
   ]
  },
  {
   "cell_type": "markdown",
   "id": "5dbaa835",
   "metadata": {},
   "source": [
    "#### Exercise 01. Basic data analysis with native Python structures.  \n",
    "Create a list with the grades of 5 students: [8.5, 9.2, 7.8, 8.9, 10].\n",
    "\n",
    "- Calculate the average of the grades."
   ]
  },
  {
   "cell_type": "code",
   "execution_count": null,
   "id": "6f5ee032",
   "metadata": {},
   "outputs": [],
   "source": [
    "import numpy as np\n",
    "student_grades = [8.5, 9.2, 7.8, 8.9, 10]\n",
    "their_average = np.mean(student_grades)\n",
    "print(their_average)"
   ]
  },
  {
   "cell_type": "markdown",
   "id": "20da3fc1",
   "metadata": {},
   "source": [
    "- Find the highest and lowest grade."
   ]
  },
  {
   "cell_type": "code",
   "execution_count": null,
   "id": "4396c1a4",
   "metadata": {},
   "outputs": [],
   "source": [
    "highest_grade = np.max(student_grades)\n",
    "lowest_grade = np.min(student_grades)\n",
    "print(highest_grade)\n",
    "print(lowest_grade)"
   ]
  },
  {
   "cell_type": "markdown",
   "id": "5d7e1112",
   "metadata": {},
   "source": [
    "# Real estate data cleaning with Pandas for efficient analysis\n",
    "\n",
    "This is a real dataset that was downloaded using web scraping techniques. The data contains records from **Fotocasa**, one of the most popular real estate websites in Spain. Please do not perform web scraping unless it is for academic purposes.\n",
    "\n",
    "The dataset was downloaded a few years ago by Henry Navarro, and no economic benefit was obtained from it.\n",
    "\n",
    "It contains thousands of real house listings published on the website www.fotocasa.com. Your goal is to extract as much information as possible with the data science knowledge you have acquired so far.\n",
    "\n",
    "Let's get started!\n",
    "\n",
    "- First, let's read and explore the dataset."
   ]
  },
  {
   "cell_type": "code",
   "execution_count": null,
   "id": "7ac6cb18",
   "metadata": {},
   "outputs": [],
   "source": [
    "import pandas as pd\n",
    "\n",
    "# Leer el archivo CSV\n",
    "ds = pd.read_csv('assets/real_estate.csv', sep=';') # Este archivo CSV contiene puntos y comas en lugar de comas como separadores\n",
    "ds # mostramos todo"
   ]
  },
  {
   "cell_type": "markdown",
   "id": "7c9f690a",
   "metadata": {},
   "source": [
    "- Display the first rows of the CSV file."
   ]
  },
  {
   "cell_type": "code",
   "execution_count": null,
   "id": "a8ff6c53",
   "metadata": {},
   "outputs": [],
   "source": [
    "print(ds.head(10)) #default shows first five rows; showing ten confirms we have at least one NaN value"
   ]
  },
  {
   "cell_type": "markdown",
   "id": "ce7aed60",
   "metadata": {},
   "source": [
    "Perfect, this was a small practice. Now let's begin with the real exercises!"
   ]
  },
  {
   "cell_type": "markdown",
   "id": "1221311f",
   "metadata": {},
   "source": [
    "#### Exercise 01. What is the most expensive house in the entire dataset? (★☆☆)\n",
    "\n",
    "Print the address and price of the selected house. For example:\n",
    "\n",
    "`The house located at Calle del Prado, Nº20 is the most expensive, and its price is 5000000 USD.`"
   ]
  },
  {
   "cell_type": "code",
   "execution_count": null,
   "id": "aa45da68",
   "metadata": {},
   "outputs": [],
   "source": [
    "#print(ds.columns)\n",
    "expensive_house_price = ds.price.max()\n",
    "expensive_house_id = ds.price.idxmax()\n",
    "expensive_house_address = ds.address[expensive_house_id]\n",
    "\n",
    "print(f\"The house located at {expensive_house_address} is the most expensive, and its price is {expensive_house_price} USD.\")"
   ]
  },
  {
   "cell_type": "markdown",
   "id": "8059b1b6",
   "metadata": {},
   "source": [
    "#### Exercise 02. What is the cheapest house in the dataset? (★☆☆)\n",
    "\n",
    "This exercise is similar to the previous one, except now we are looking for the house with the lowest price. Remember to print the address and price of the selected house. For example:\n",
    "\n",
    "`The house located at Calle Alcalá, Nº58 is the cheapest, and its price is 12000 USD.`\n"
   ]
  },
  {
   "cell_type": "code",
   "execution_count": null,
   "id": "007c60de",
   "metadata": {},
   "outputs": [],
   "source": [
    "inexpensive_house_price = ds.price[ds.price>0].min()\n",
    "inexpensive_house_id = ds.price[ds.price>0].idxmin()\n",
    "inexpensive_house_address = ds.address[inexpensive_house_id]\n",
    "\n",
    "print(f\"The house located at {inexpensive_house_address} is the cheapest, and its price is {inexpensive_house_price} USD.\")"
   ]
  },
  {
   "cell_type": "markdown",
   "id": "637612ca",
   "metadata": {},
   "source": [
    "#### Exercise 03. What is the largest and smallest house in the dataset? (★☆☆)\n",
    "\n",
    "Print the address and area of the selected houses. For example:\n",
    "\n",
    "`The largest house is located at Calle Gran Vía, Nº38, and its area is 5000 square meters.`\n",
    "\n",
    "`The smallest house is located at Calle Mayor, Nº12, and its area is 200 square meters.`\n",
    "\n",
    "This exercise is similar to the previous one, but we are looking for the largest and smallest houses based on their area."
   ]
  },
  {
   "cell_type": "code",
   "execution_count": null,
   "id": "580cbc83",
   "metadata": {},
   "outputs": [],
   "source": [
    "largest_house_area = ds.surface.max()\n",
    "largest_house_id = ds.surface.idxmax()\n",
    "largest_house_address = ds.address[largest_house_id]\n",
    "\n",
    "print(f\"The largest house is located at {largest_house_address}, and its area is {largest_house_area} square meters.\")\n",
    "\n",
    "\n",
    "smallest_house_area = ds.surface[ds.surface>0].min()\n",
    "smallest_house_id = ds.surface[ds.surface>0].idxmin()\n",
    "smallest_house_address = ds.address[smallest_house_id]\n",
    "\n",
    "print(f\"The smallest house is located at {smallest_house_address}, and its area is {smallest_house_area} square meters.\")"
   ]
  },
  {
   "cell_type": "markdown",
   "id": "c92af6da",
   "metadata": {},
   "source": [
    "#### Exercise 04. How many unique populations are in the dataset? (★☆☆)\n",
    "\n",
    "Count the number of unique populations in the 'level5' column and print the names of the populations separated by commas. For example:\n",
    "\n",
    "`> print(populations)`\n",
    "\n",
    "`population1, population2, population3, ...`"
   ]
  },
  {
   "cell_type": "code",
   "execution_count": null,
   "id": "07ef25bb",
   "metadata": {},
   "outputs": [],
   "source": [
    "populations = ds.groupby(\"level5\")\n",
    "print(f\"There are {populations.ngroups} unique populations in the dataset\")\n",
    "\n",
    "for pop in populations:\n",
    "    print(f\"{pop[0]}\", end=\", \")"
   ]
  },
  {
   "cell_type": "markdown",
   "id": "08fda078",
   "metadata": {},
   "source": [
    "#### Exercise 05. Does the dataset contain null values (NAs)? (★☆☆)\n",
    "\n",
    "Print a boolean (`True` or `False`) to check if there are null values, followed by the columns that contain NAs."
   ]
  },
  {
   "cell_type": "code",
   "execution_count": null,
   "id": "7eb98e35",
   "metadata": {},
   "outputs": [],
   "source": [
    "columns_containing_na = []\n",
    "is_na_found = False\n",
    "for column_name, series in ds.items():\n",
    "    # The \"level#\" columns look useful but columns like \"level#Id\" contain nothing but zeroes.  So just like the NaNs I see no reason to keep them.\n",
    "    if series.isna().all() or (series ==0).all(): \n",
    "        is_na_found = True\n",
    "        columns_containing_na.append(column_name)\n",
    "\n",
    "print(f\"NAs found? {is_na_found}\")\n",
    "print(columns_containing_na)\n"
   ]
  },
  {
   "cell_type": "markdown",
   "id": "a8b31e50",
   "metadata": {},
   "source": [
    "#### Exercise 06. Remove the null values (NAs) from the dataset, if applicable (★★☆)\n",
    "\n",
    "After removing the null values, compare the size of the DataFrame before and after the removal."
   ]
  },
  {
   "cell_type": "code",
   "execution_count": null,
   "id": "9f174338",
   "metadata": {},
   "outputs": [],
   "source": [
    "size_before_removing_nulls = ds.size\n",
    "print(f\"Size before removing nulls was\\t{size_before_removing_nulls}\")\n",
    "ds_without_nas = ds.dropna(axis=1, how=\"all\")\n",
    "print(f\"Size after removing nulls is\\t{ds_without_nas.size}\")\n",
    "\n",
    "#next will clear useless only-zeroes columns by replacing those values with NAs and then dropping the same way\n",
    "ds_cleaned_up = ds.replace(0, np.nan).dropna(axis=1, how=\"all\")\n",
    "print(f\"Size after removing both nulls and columns containing exclusively zeroes is\\t{ds_cleaned_up.size}\")"
   ]
  },
  {
   "cell_type": "markdown",
   "id": "71fd820e",
   "metadata": {},
   "source": [
    "#### Exercise 07. What is the average price in the population of \"Arroyomolinos (Madrid)\"? (★★☆)\n",
    "\n",
    "Print the value obtained from the 'level5' column."
   ]
  },
  {
   "cell_type": "code",
   "execution_count": null,
   "id": "2a495ff1",
   "metadata": {},
   "outputs": [],
   "source": [
    "level_five_location = \"Arroyomolinos (Madrid)\"\n",
    "real_estate_there = ds_cleaned_up[ds_cleaned_up['level5'] == level_five_location]\n",
    "\n",
    "print(f\"Average price in {level_five_location} is\\t{real_estate_there.price.mean()}\")\n",
    "print(f\"Ignoring prices listed as zero (just in case), that average would be\\t{real_estate_there[real_estate_there['price'] > 0].price.mean()}\")\n"
   ]
  },
  {
   "cell_type": "markdown",
   "id": "75911380",
   "metadata": {},
   "source": [
    "#### Exercise 08. Plot the histogram of prices for the population of \"Arroyomolinos (Madrid)\" and explain what you observe (★★☆)\n",
    "\n",
    "Print the histogram of the prices and write a brief analysis of the plot in the Markdown cell."
   ]
  },
  {
   "cell_type": "code",
   "execution_count": null,
   "id": "070c7ed3",
   "metadata": {},
   "outputs": [],
   "source": [
    "import matplotlib.pyplot as plt\n",
    "\n",
    "# Plot the histogram of prices\n",
    "plt.figure(figsize = (10, 5))\n",
    "plt.hist(real_estate_there[\"price\"], bins=\"auto\")\n",
    "plt.title(f\"Real estate prices in {level_five_location}\")\n",
    "plt.show()"
   ]
  },
  {
   "cell_type": "markdown",
   "id": "2fbfe4c1",
   "metadata": {},
   "source": [
    "##### Analysis of this plot:\n",
    "- Majority of home sales were in the $250k to $375k range\n",
    "- More-affordable homes were still reasonably common; there were about as many homes costing between $150k-$200k as there were between $200k-$250k\n",
    "- There were a little more than half as many sales between $375k to $425k as there were under $200k\n",
    "- Homes costing over $425k were much less common, perhaps even fewer closings in total than the ones selling between $375k to $425k"
   ]
  }
 ],
 "metadata": {
  "kernelspec": {
   "display_name": ".venv",
   "language": "python",
   "name": "python3"
  },
  "language_info": {
   "codemirror_mode": {
    "name": "ipython",
    "version": 3
   },
   "file_extension": ".py",
   "mimetype": "text/x-python",
   "name": "python",
   "nbconvert_exporter": "python",
   "pygments_lexer": "ipython3",
   "version": "3.11.4"
  }
 },
 "nbformat": 4,
 "nbformat_minor": 5
}
